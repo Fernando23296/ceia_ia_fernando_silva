{
 "cells": [
  {
   "cell_type": "markdown",
   "metadata": {},
   "source": [
    "# Clase 3: Aplicación de NumPy aplicados a Ingeniería de Features y Regresión Lineal"
   ]
  },
  {
   "cell_type": "markdown",
   "metadata": {},
   "source": [
    "Ejercicios de aplicación de NumPy aplicados a Ingeniería de Features y Regresión Lineal.\n",
    "\n",
    "#### Ejecicio #1:    Normalización\n",
    "Muchos algoritmos de Machine Learning necesitan datos de entrada centrados y normalizados. Una normalización habitual es el z-score, que implica restarle la media y dividir por el desvío a cada feature de mi dataset. \n",
    "\n",
    "Dado un dataset X de n muestras y m features, implementar un método en numpy para normalizar con z-score. Pueden utilizar np.mean() y np.std()."
   ]
  },
  {
   "cell_type": "code",
   "execution_count": 1,
   "metadata": {},
   "outputs": [],
   "source": [
    "import numpy as np\n",
    "import pandas as pd\n",
    "import matplotlib.pyplot as plt"
   ]
  },
  {
   "cell_type": "code",
   "execution_count": 2,
   "metadata": {},
   "outputs": [],
   "source": [
    "def normalizador(columna):\n",
    "    columna_norm = (columna - np.mean(columna))/np.std(columna)\n",
    "    return columna_norm"
   ]
  },
  {
   "cell_type": "markdown",
   "metadata": {},
   "source": [
    "#### Ejecicio #2:    Remover filas y columnas con NaNs en un dataset\n",
    "Dado un dataset, hacer una función que, utilizando numpy, filtre las columnas y las filas que tienen NaNs."
   ]
  },
  {
   "cell_type": "code",
   "execution_count": 3,
   "metadata": {},
   "outputs": [],
   "source": [
    "def verificador_nans(columna):\n",
    "    contador = np.count_nonzero(np.isnan(columna))\n",
    "    if contador == 0:\n",
    "        print(\"No hay nans\")\n",
    "    else:\n",
    "        print(contador)"
   ]
  },
  {
   "cell_type": "markdown",
   "metadata": {},
   "source": [
    "#### Ejecicio #3:    Reemplazar NaNs por la media de la columna\n",
    "Dado un dataset, hacer una función que utilizando numpy reemplace los NaNs por la media de la columna."
   ]
  },
  {
   "cell_type": "code",
   "execution_count": 124,
   "metadata": {},
   "outputs": [
    {
     "name": "stdout",
     "output_type": "stream",
     "text": [
      "[ 0.          1.01010101  2.02020202  3.03030303  4.04040404  5.05050505\n",
      "  6.06060606  7.07070707  8.08080808  9.09090909 10.1010101  11.11111111\n",
      " 12.12121212 13.13131313 14.14141414 15.15151515 16.16161616 17.17171717\n",
      " 18.18181818 19.19191919 20.2020202  21.21212121 22.22222222 23.23232323\n",
      " 24.24242424 25.25252525 26.26262626 27.27272727 28.28282828 29.29292929\n",
      " 30.3030303  31.31313131 32.32323232 33.33333333 34.34343434 35.35353535\n",
      " 36.36363636 37.37373737 38.38383838 39.39393939 40.4040404  41.41414141\n",
      " 42.42424242 43.43434343 44.44444444 45.45454545 46.46464646 47.47474747\n",
      " 48.48484848 49.49494949 50.50505051 51.51515152 52.52525253 53.53535354\n",
      " 54.54545455 55.55555556 56.56565657 57.57575758 58.58585859 59.5959596\n",
      " 60.60606061 61.61616162 62.62626263 63.63636364 64.64646465 65.65656566\n",
      " 66.66666667         nan 68.68686869 69.6969697  70.70707071 71.71717172\n",
      " 72.72727273 73.73737374 74.74747475 75.75757576 76.76767677 77.77777778\n",
      " 78.78787879 79.7979798  80.80808081 81.81818182 82.82828283 83.83838384\n",
      " 84.84848485 85.85858586 86.86868687 87.87878788 88.88888889 89.8989899\n",
      " 90.90909091 91.91919192 92.92929293 93.93939394 94.94949495 95.95959596\n",
      " 96.96969697 97.97979798 98.98989899         nan]\n"
     ]
    }
   ],
   "source": [
    "#Armo un \"dataset\" ejemplo\n",
    "x = np.linspace(0,100,100)\n",
    "x[67], x[99] = np.nan, np.nan\n",
    "print(x)"
   ]
  },
  {
   "cell_type": "code",
   "execution_count": 125,
   "metadata": {},
   "outputs": [],
   "source": [
    "def parche(x):\n",
    "    media =  np.nanmean(x)\n",
    "    x[np.isnan(x)] = media\n",
    "    return(x)"
   ]
  },
  {
   "cell_type": "code",
   "execution_count": 123,
   "metadata": {},
   "outputs": [
    {
     "name": "stdout",
     "output_type": "stream",
     "text": [
      "[ 0.          1.01010101  2.02020202  3.03030303  4.04040404  5.05050505\n",
      "  6.06060606  7.07070707  8.08080808  9.09090909 10.1010101  11.11111111\n",
      " 12.12121212 13.13131313 14.14141414 15.15151515 16.16161616 17.17171717\n",
      " 18.18181818 19.19191919 20.2020202  21.21212121 22.22222222 23.23232323\n",
      " 24.24242424 25.25252525 26.26262626 27.27272727 28.28282828 29.29292929\n",
      " 30.3030303  31.31313131 32.32323232 33.33333333 34.34343434 35.35353535\n",
      " 36.36363636 37.37373737 38.38383838 39.39393939 40.4040404  41.41414141\n",
      " 42.42424242 43.43434343 44.44444444 45.45454545 46.46464646 47.47474747\n",
      " 48.48484848 49.49494949 50.50505051 51.51515152 52.52525253 53.53535354\n",
      " 54.54545455 55.55555556 56.56565657 57.57575758 58.58585859 59.5959596\n",
      " 60.60606061 61.61616162 62.62626263 63.63636364 64.64646465 65.65656566\n",
      " 66.66666667 49.30942074 68.68686869 69.6969697  70.70707071 71.71717172\n",
      " 72.72727273 73.73737374 74.74747475 75.75757576 76.76767677 77.77777778\n",
      " 78.78787879 79.7979798  80.80808081 81.81818182 82.82828283 83.83838384\n",
      " 84.84848485 85.85858586 86.86868687 87.87878788 88.88888889 89.8989899\n",
      " 90.90909091 91.91919192 92.92929293 93.93939394 94.94949495 95.95959596\n",
      " 96.96969697 97.97979798 98.98989899 49.30942074]\n"
     ]
    }
   ],
   "source": [
    "# Aplicado a ejemplo\n",
    "print(parche(x))"
   ]
  },
  {
   "cell_type": "markdown",
   "metadata": {},
   "source": [
    "#### Ejecicio #4:    Dado un dataset X separarlo en 70 / 20 / 10\n",
    "Como vimos en el ejercicio integrador, en problemas de Machine Learning es fundamental que separemos los datasets de n muestras, en 3 datasets de la siguiente manera:\n",
    "\n",
    "* Training dataset: los datos que utilizaremos para entrenar nuestros modelos. Ej: 70% de las muestras.\n",
    "* Validation dataset: los datos que usamos para calcular métricas y ajustar los hiperparámetros de nuestros modelos. Ej: 20% de las muestras.\n",
    "* Testing dataset: una vez que entrenamos los modelos y encontramos los hiperparámetros óptimos de los mísmos, el testing dataset se lo utiliza para computar las métricas finales de nuestros modelos y analizar cómo se comporta respecto a la generalización. Ej: 10% de las muestras.\n",
    "\n",
    "A partir de utilizar np.random.permutation, hacer un método que dado un dataset, devuelva los 3 datasets como nuevos numpy arrays."
   ]
  },
  {
   "cell_type": "code",
   "execution_count": null,
   "metadata": {},
   "outputs": [],
   "source": []
  },
  {
   "cell_type": "code",
   "execution_count": 5,
   "metadata": {},
   "outputs": [],
   "source": [
    "def separador(columna):\n",
    "\n",
    "    m = columna.shape[0]\n",
    "    train_size = (70*m)//100\n",
    "    val_size = (20*m)//100\n",
    "    \n",
    "    train = columna[0:train_size]\n",
    "    val = columna[train_size:train_size + val_size]\n",
    "    test= columna[train_size + val_size:]\n",
    "    \n",
    "    return(train, val, test)"
   ]
  },
  {
   "cell_type": "markdown",
   "metadata": {},
   "source": [
    "#### Ejercicio #5:   A partir del dataset de consigna, aplicar los conceptos de regresión lineal.\n",
    "1. Armar una clase para cargar el [dataset](data/income.csv) en un ndarray estructurado, tal como se realizó en el ejercicio 10 de la Clase 1.\n",
    "2. Incluir un método split a la clase para obtener los sets de training y test.\n",
    "3. Crear una clase métrica base y una clase MSE (Error cuadrático medio) que herede de la clase base.\n",
    "4. Crear una clase modelo base y clases regresión lineal y regresión afín que hereden de la primera. Usar los conocimientos teóricos vistos en clase.\n",
    "5. Hacer un fit de las regresiones con los datos de entrenamiento.\n",
    "6. Hacer un predict sobre los datos de test y reportar el MSE en cada caso.\n",
    "7. Graficar la curva obtenida."
   ]
  },
  {
   "cell_type": "code",
   "execution_count": 68,
   "metadata": {},
   "outputs": [],
   "source": [
    "data = pd.read_csv(\"data/income.csv\")"
   ]
  },
  {
   "cell_type": "code",
   "execution_count": 7,
   "metadata": {},
   "outputs": [
    {
     "data": {
      "text/html": [
       "<div>\n",
       "<style scoped>\n",
       "    .dataframe tbody tr th:only-of-type {\n",
       "        vertical-align: middle;\n",
       "    }\n",
       "\n",
       "    .dataframe tbody tr th {\n",
       "        vertical-align: top;\n",
       "    }\n",
       "\n",
       "    .dataframe thead th {\n",
       "        text-align: right;\n",
       "    }\n",
       "</style>\n",
       "<table border=\"1\" class=\"dataframe\">\n",
       "  <thead>\n",
       "    <tr style=\"text-align: right;\">\n",
       "      <th></th>\n",
       "      <th>Unnamed: 0</th>\n",
       "      <th>income</th>\n",
       "      <th>happiness</th>\n",
       "    </tr>\n",
       "  </thead>\n",
       "  <tbody>\n",
       "    <tr>\n",
       "      <th>0</th>\n",
       "      <td>1</td>\n",
       "      <td>3.862647</td>\n",
       "      <td>2.314489</td>\n",
       "    </tr>\n",
       "    <tr>\n",
       "      <th>1</th>\n",
       "      <td>2</td>\n",
       "      <td>4.979381</td>\n",
       "      <td>3.433490</td>\n",
       "    </tr>\n",
       "    <tr>\n",
       "      <th>2</th>\n",
       "      <td>3</td>\n",
       "      <td>4.923957</td>\n",
       "      <td>4.599373</td>\n",
       "    </tr>\n",
       "    <tr>\n",
       "      <th>3</th>\n",
       "      <td>4</td>\n",
       "      <td>3.214372</td>\n",
       "      <td>2.791114</td>\n",
       "    </tr>\n",
       "    <tr>\n",
       "      <th>4</th>\n",
       "      <td>5</td>\n",
       "      <td>7.196409</td>\n",
       "      <td>5.596398</td>\n",
       "    </tr>\n",
       "  </tbody>\n",
       "</table>\n",
       "</div>"
      ],
      "text/plain": [
       "   Unnamed: 0    income  happiness\n",
       "0           1  3.862647   2.314489\n",
       "1           2  4.979381   3.433490\n",
       "2           3  4.923957   4.599373\n",
       "3           4  3.214372   2.791114\n",
       "4           5  7.196409   5.596398"
      ]
     },
     "execution_count": 7,
     "metadata": {},
     "output_type": "execute_result"
    }
   ],
   "source": [
    "data.head()"
   ]
  },
  {
   "cell_type": "code",
   "execution_count": 30,
   "metadata": {},
   "outputs": [],
   "source": [
    "class Metrica:\n",
    "\n",
    "    def __init__(self, y_pred, y_real):\n",
    "        self.y_pred = y_pred\n",
    "        self.y_real = y_real\n",
    "\n",
    "    def diferencia(self):\n",
    "        return (y_real - y_pred)\n"
   ]
  },
  {
   "cell_type": "code",
   "execution_count": 37,
   "metadata": {},
   "outputs": [],
   "source": [
    "class MSE(Metrica):\n",
    "    def metrica_mse(self):\n",
    "        n = self.y_real.shape[0]\n",
    "        m = np.sum((self.y_real - self.y_pred)**2)*(1/n)\n",
    "        return m\n",
    "        "
   ]
  },
  {
   "cell_type": "code",
   "execution_count": 39,
   "metadata": {},
   "outputs": [
    {
     "data": {
      "text/plain": [
       "0.375"
      ]
     },
     "execution_count": 39,
     "metadata": {},
     "output_type": "execute_result"
    }
   ],
   "source": [
    "mse = MSE(np.array([3, -0.5, 2, 7]),np.array([2.5, 0.0, 2, 8]))\n",
    "mse.metrica_mse()"
   ]
  },
  {
   "cell_type": "code",
   "execution_count": 49,
   "metadata": {},
   "outputs": [],
   "source": [
    "class RegresionLineal:\n",
    "   def entrenamiento(self,X,Y):\n",
    "       \n",
    "       X = np.array(X).reshape(-1,1)\n",
    "       Y = np.array(Y).reshape(-1,1)\n",
    "    \n",
    "       x_shape = X.shape\n",
    "       num_registros = x_shape[1]\n",
    "       self.matriz_pesos = np.random.normal(-1,1,(num_registros,1))\n",
    "       self.bias = np.random.rand(1)\n",
    "       self.registro = []\n",
    "        \n",
    "       for i in range(100):\n",
    "           h = np.matmul(X,self.matriz_pesos)+self.bias\n",
    "           self.pesos = np.sum(np.multiply((h - Y),X))*2/x_shape[0] \n",
    "           self.bias_ = np.sum((h - Y))*2/x_shape[0] \n",
    "           self.matriz_pesos -= 0.1*self.pesos\n",
    "           self.bias -= 0.1*self.bias_\n",
    "           y_pred = np.matmul(np.array(X).reshape(-1,1),self.matriz_pesos)+self.bias\n",
    "           mse = MSE(y_pred, Y)\n",
    "           self.registro.append(mse.metrica_mse())\n",
    "    \n",
    "       return self.matriz_pesos, self.bias, self.registro\n",
    "\n",
    "   def prediccion(self,X):\n",
    "       pred = np.matmul(np.array(X).reshape(-1,1),self.matriz_pesos)+self.bias\n",
    "       return pred"
   ]
  },
  {
   "cell_type": "code",
   "execution_count": 50,
   "metadata": {},
   "outputs": [],
   "source": [
    "X = data[\"income\"]\n",
    "Y = data[\"happiness\"]\n",
    "\n",
    "X = normalizador(X)\n",
    "Y = normalizador(Y)\n",
    "\n",
    "X_train, X_test, X_val = separador(X)\n",
    "Y_train, Y_test, Y_val = separador(Y)"
   ]
  },
  {
   "cell_type": "code",
   "execution_count": 51,
   "metadata": {},
   "outputs": [],
   "source": [
    "reg = RegresionLineal()"
   ]
  },
  {
   "cell_type": "code",
   "execution_count": 52,
   "metadata": {},
   "outputs": [],
   "source": [
    "params = reg.entrenamiento(X_train,Y_train)"
   ]
  },
  {
   "cell_type": "code",
   "execution_count": 53,
   "metadata": {},
   "outputs": [
    {
     "data": {
      "text/plain": [
       "[<matplotlib.lines.Line2D at 0x7f9d1df574a8>]"
      ]
     },
     "execution_count": 53,
     "metadata": {},
     "output_type": "execute_result"
    },
    {
     "data": {
      "image/png": "[encoded data removed]",
      "text/plain": [
       "<Figure size 432x288 with 1 Axes>"
      ]
     },
     "metadata": {
      "needs_background": "light"
     },
     "output_type": "display_data"
    }
   ],
   "source": [
    "pred = reg.prediccion(np.array(X_test))\n",
    "\n",
    "plt.scatter(X_test,Y_test)\n",
    "\n",
    "plt.plot(X_test,pred)"
   ]
  },
  {
   "cell_type": "code",
   "execution_count": 67,
   "metadata": {},
   "outputs": [
    {
     "data": {
      "text/plain": [
       "Text(0, 0.5, 'EPOCH')"
      ]
     },
     "execution_count": 67,
     "metadata": {},
     "output_type": "execute_result"
    },
    {
     "data": {
      "image/png": "[encoded data removed]",
      "text/plain": [
       "<Figure size 432x288 with 1 Axes>"
      ]
     },
     "metadata": {
      "needs_background": "light"
     },
     "output_type": "display_data"
    }
   ],
   "source": [
    "x = params[-1]\n",
    "y = np.array(list(range(0, 100)))\n",
    "plt.plot(x,y)\n",
    "plt.xlabel(\"MSE\")\n",
    "plt.ylabel(\"EPOCH\")"
   ]
  }
 ],
 "metadata": {
  "kernelspec": {
   "display_name": "uba",
   "language": "python",
   "name": "uba"
  },
  "language_info": {
   "codemirror_mode": {
    "name": "ipython",
    "version": 3
   },
   "file_extension": ".py",
   "mimetype": "text/x-python",
   "name": "python",
   "nbconvert_exporter": "python",
   "pygments_lexer": "ipython3",
   "version": "3.6.13"
  }
 },
 "nbformat": 4,
 "nbformat_minor": 2
}
