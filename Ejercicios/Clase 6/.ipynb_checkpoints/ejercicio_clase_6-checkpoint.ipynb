{
 "cells": [
  {
   "cell_type": "markdown",
   "metadata": {},
   "source": [
    "# Ejercicio #1: Regresión Logística en NumPy\n",
    "<ol>\n",
    "    <li>Implementar el algoritmo de regresión logística en NumPy.</li>\n",
    "    <li>Aplicar el modelo a un dataset de elección.</li>\n",
    "    <li>Comparar los resultados con Scikit-Learn .</li>\n",
    "    <li>Comparar los resultados agregando regularización.</li>\n",
    "</ol>"
   ]
  },
  {
   "cell_type": "code",
   "execution_count": null,
   "metadata": {},
   "outputs": [],
   "source": []
  }
 ],
 "metadata": {
  "kernelspec": {
   "display_name": "uba",
   "language": "python",
   "name": "uba"
  },
  "language_info": {
   "codemirror_mode": {
    "name": "ipython",
    "version": 3
   },
   "file_extension": ".py",
   "mimetype": "text/x-python",
   "name": "python",
   "nbconvert_exporter": "python",
   "pygments_lexer": "ipython3",
   "version": "3.6.13"
  }
 },
 "nbformat": 4,
 "nbformat_minor": 2
}
