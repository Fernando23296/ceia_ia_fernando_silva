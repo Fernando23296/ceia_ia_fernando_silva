{
 "cells": [
  {
   "cell_type": "markdown",
   "metadata": {},
   "source": [
    "# Clase 1\n",
    "## Ejercicio 1"
   ]
  },
  {
   "cell_type": "code",
   "execution_count": 1,
   "metadata": {},
   "outputs": [],
   "source": [
    "import numpy as np"
   ]
  },
  {
   "cell_type": "markdown",
   "metadata": {},
   "source": [
    "![alt text](../img/vector_norms.jpg \"Title\")"
   ]
  },
  {
   "cell_type": "code",
   "execution_count": 2,
   "metadata": {},
   "outputs": [],
   "source": [
    "lista = np.random.randn(3,3)"
   ]
  },
  {
   "cell_type": "code",
   "execution_count": 3,
   "metadata": {},
   "outputs": [
    {
     "data": {
      "text/plain": [
       "array([[-0.86015437,  0.87635955,  1.00634389],\n",
       "       [ 0.63411901,  1.03352417,  1.11311987],\n",
       "       [ 1.2238965 , -0.2969407 ,  1.82851655]])"
      ]
     },
     "execution_count": 3,
     "metadata": {},
     "output_type": "execute_result"
    }
   ],
   "source": [
    "lista\n"
   ]
  },
  {
   "cell_type": "code",
   "execution_count": 4,
   "metadata": {},
   "outputs": [],
   "source": [
    "def p_norms(l,p):\n",
    "    res = (np.sum(np.abs(l)**p, axis=1)**(1/p))\n",
    "    return res"
   ]
  },
  {
   "cell_type": "code",
   "execution_count": 5,
   "metadata": {},
   "outputs": [
    {
     "data": {
      "text/plain": [
       "array([1.58763964, 1.64599968, 2.22026332])"
      ]
     },
     "execution_count": 5,
     "metadata": {},
     "output_type": "execute_result"
    }
   ],
   "source": [
    "p_norms(lista,2)"
   ]
  },
  {
   "cell_type": "code",
   "execution_count": 6,
   "metadata": {},
   "outputs": [],
   "source": [
    "def norm_inf(l):\n",
    "    return np.max(np.sum(np.abs(l),axis=1))\n",
    "    "
   ]
  },
  {
   "cell_type": "code",
   "execution_count": 7,
   "metadata": {},
   "outputs": [],
   "source": [
    "a = np.array([[4,5,6],[7,8,9],[1,2,3]])"
   ]
  },
  {
   "cell_type": "code",
   "execution_count": 8,
   "metadata": {},
   "outputs": [
    {
     "data": {
      "text/plain": [
       "array([[4, 5, 6],\n",
       "       [7, 8, 9],\n",
       "       [1, 2, 3]])"
      ]
     },
     "execution_count": 8,
     "metadata": {},
     "output_type": "execute_result"
    }
   ],
   "source": [
    "a"
   ]
  },
  {
   "cell_type": "code",
   "execution_count": 9,
   "metadata": {},
   "outputs": [
    {
     "data": {
      "text/plain": [
       "24"
      ]
     },
     "execution_count": 9,
     "metadata": {},
     "output_type": "execute_result"
    }
   ],
   "source": [
    "norm_inf(a)"
   ]
  },
  {
   "cell_type": "code",
   "execution_count": 10,
   "metadata": {},
   "outputs": [
    {
     "data": {
      "text/plain": [
       "3"
      ]
     },
     "execution_count": 10,
     "metadata": {},
     "output_type": "execute_result"
    }
   ],
   "source": [
    "a.shape[0]"
   ]
  },
  {
   "cell_type": "markdown",
   "metadata": {},
   "source": [
    "## Ejercicio 2"
   ]
  },
  {
   "cell_type": "code",
   "execution_count": 11,
   "metadata": {},
   "outputs": [],
   "source": [
    "def sorting(l):\n",
    "    p_rows = p_norms(l,2)\n",
    "    print(p_rows)\n",
    "    p_rows_index = np.argsort(p_rows)[::-1]\n",
    "    print(p_rows_index)\n",
    "    #p_sort = np.sort(p_rows)[::-1]\n",
    "    new_matrix = []\n",
    "    #print(p_rows_index)\n",
    "    for i in p_rows_index:\n",
    "        new_matrix.append(l[:][i])\n",
    "    return(new_matrix)"
   ]
  },
  {
   "cell_type": "code",
   "execution_count": 12,
   "metadata": {},
   "outputs": [
    {
     "name": "stdout",
     "output_type": "stream",
     "text": [
      "[ 8.77496439 13.92838828  3.74165739]\n",
      "[1 0 2]\n"
     ]
    },
    {
     "data": {
      "text/plain": [
       "[array([7, 8, 9]), array([4, 5, 6]), array([1, 2, 3])]"
      ]
     },
     "execution_count": 12,
     "metadata": {},
     "output_type": "execute_result"
    }
   ],
   "source": [
    "sorting(a)"
   ]
  },
  {
   "cell_type": "markdown",
   "metadata": {},
   "source": [
    "## Ejercicio 3"
   ]
  },
  {
   "cell_type": "code",
   "execution_count": 33,
   "metadata": {},
   "outputs": [],
   "source": [
    "class Indexing:\n",
    "    def __init__(self, users_id):\n",
    "        self.users_id = users_id\n",
    "        self.users_idx = list(range(len(users_id)))\n",
    "    \n",
    "    def get_users_id(self):\n",
    "        return(self.users_id)\n",
    "        \n",
    "    def get_users_idx(self):\n",
    "        return(self.users_idx)\n",
    "    \n",
    "    def id2idx(self, user_id):\n",
    "        return(self.users_id[user_id])\n",
    "    \n",
    "    def idx2id(self, user_idx):\n",
    "        return(self.users_id[user_idx])\n",
    "        "
   ]
  },
  {
   "cell_type": "code",
   "execution_count": 34,
   "metadata": {},
   "outputs": [
    {
     "name": "stdout",
     "output_type": "stream",
     "text": [
      "[-1, 4, 5, -1, -1, -1, -1, -1, -1, -1, 3, -1, 1, -1, 2, 0]\n",
      "[0, 1, 2, 3, 4, 5, 6, 7, 8, 9, 10, 11, 12, 13, 14, 15]\n"
     ]
    }
   ],
   "source": [
    "index = Indexing([-1, 4, 5, -1, -1, -1, -1, -1, -1, -1, 3, -1, 1, -1, 2, 0])\n",
    "print(index.get_users_id())\n",
    "print(index.get_users_idx())"
   ]
  },
  {
   "cell_type": "code",
   "execution_count": 37,
   "metadata": {},
   "outputs": [
    {
     "data": {
      "text/plain": [
       "-1"
      ]
     },
     "execution_count": 37,
     "metadata": {},
     "output_type": "execute_result"
    }
   ],
   "source": [
    "index.id2idx(5)"
   ]
  },
  {
   "cell_type": "code",
   "execution_count": 38,
   "metadata": {},
   "outputs": [
    {
     "data": {
      "text/plain": [
       "0"
      ]
     },
     "execution_count": 38,
     "metadata": {},
     "output_type": "execute_result"
    }
   ],
   "source": [
    "index.idx2id(15)"
   ]
  },
  {
   "cell_type": "markdown",
   "metadata": {},
   "source": [
    "### Ejercicio 4"
   ]
  },
  {
   "cell_type": "code",
   "execution_count": 17,
   "metadata": {},
   "outputs": [],
   "source": [
    "class Metricas:\n",
    "    def __init__(self, truth, prediction):\n",
    "        self.truth = truth\n",
    "        self.prediction = prediction\n",
    "    \n",
    "    def boolean_list(self):\n",
    "            l = []\n",
    "            for i in range (0,len(self.truth)):\n",
    "                if (self.truth[i]==1) & (self.prediction[i]==1):\n",
    "                    l.append(\"TP\")\n",
    "                elif (self.truth[i]==0) & (self.prediction[i]==0):\n",
    "                    l.append(\"TN\")\n",
    "                elif (self.truth[i]==1) & (self.prediction[i]==0):\n",
    "                    l.append(\"FN\")\n",
    "                else:\n",
    "                    l.append(\"FP\")\n",
    "            return (l)\n",
    "\n",
    "    def variables(self):\n",
    "        bool_l = self.boolean_list()\n",
    "        l_variables = [\"TP\", \"TN\", \"FN\", \"FP\"]\n",
    "        l_variables_count = []\n",
    "        for i in l_variables:\n",
    "            l_variables_count.append(bool_l.count(i))\n",
    "        return (l_variables_count)\n",
    "        \n",
    "    def precision(self):\n",
    "        l = self.variables()\n",
    "        res = l[0] / (l[0] + l[3])\n",
    "        return (res)\n",
    "    \n",
    "    def recall(self):\n",
    "        l = self.variables()\n",
    "        res = l[0] / (l[0] + l[2])\n",
    "        return (res)\n",
    "    \n",
    "    def accuracy(self):\n",
    "        l = self.variables()\n",
    "        res = (l[0] + l[1])/ (l[0] + l[1] + l[2] + l[3])\n",
    "        return (res)"
   ]
  },
  {
   "cell_type": "code",
   "execution_count": 18,
   "metadata": {},
   "outputs": [],
   "source": [
    "truth = np.array([1,1,0,1])\n",
    "prediction = np.array([1,0,0,1])\n"
   ]
  },
  {
   "cell_type": "code",
   "execution_count": 19,
   "metadata": {},
   "outputs": [
    {
     "name": "stdout",
     "output_type": "stream",
     "text": [
      "['TP', 'FN', 'TN', 'TP']\n",
      "[2, 1, 1, 0]\n",
      "1.0\n",
      "0.6666666666666666\n",
      "0.75\n"
     ]
    }
   ],
   "source": [
    "m = Metricas(truth, prediction)\n",
    "print(m.boolean_list())\n",
    "print(m.variables())\n",
    "print(m.precision())\n",
    "print(m.recall())\n",
    "print(m.accuracy())"
   ]
  },
  {
   "cell_type": "markdown",
   "metadata": {},
   "source": [
    "## Ejercicio 6"
   ]
  },
  {
   "cell_type": "code",
   "execution_count": null,
   "metadata": {},
   "outputs": [],
   "source": []
  },
  {
   "cell_type": "code",
   "execution_count": null,
   "metadata": {},
   "outputs": [],
   "source": []
  },
  {
   "cell_type": "code",
   "execution_count": null,
   "metadata": {},
   "outputs": [],
   "source": []
  }
 ],
 "metadata": {
  "kernelspec": {
   "display_name": "Python 3.7 (pytorch)",
   "language": "python",
   "name": "pytorch"
  },
  "language_info": {
   "codemirror_mode": {
    "name": "ipython",
    "version": 3
   },
   "file_extension": ".py",
   "mimetype": "text/x-python",
   "name": "python",
   "nbconvert_exporter": "python",
   "pygments_lexer": "ipython3",
   "version": "3.7.0"
  }
 },
 "nbformat": 4,
 "nbformat_minor": 2
}
