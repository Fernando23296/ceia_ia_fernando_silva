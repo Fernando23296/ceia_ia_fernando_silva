{
 "cells": [
  {
   "cell_type": "markdown",
   "metadata": {},
   "source": [
    "# Regresion Lineal"
   ]
  },
  {
   "cell_type": "code",
   "execution_count": 36,
   "metadata": {},
   "outputs": [],
   "source": [
    "import numpy as np\n",
    "import pandas as pd\n",
    "import matplotlib.pyplot as plt"
   ]
  },
  {
   "cell_type": "code",
   "execution_count": 37,
   "metadata": {},
   "outputs": [],
   "source": [
    "def generador_dataset(num_valores):\n",
    "    x = np.linspace(0,100,num_valores)\n",
    "    x = x.reshape(100,1)\n",
    "    y = x + (np.random.randn(num_valores,1)*20)\n",
    "    return(x,y)"
   ]
  },
  {
   "cell_type": "code",
   "execution_count": 3,
   "metadata": {},
   "outputs": [
    {
     "ename": "NameError",
     "evalue": "name 'x' is not defined",
     "output_type": "error",
     "traceback": [
      "\u001b[0;31m---------------------------------------------------------------------------\u001b[0m",
      "\u001b[0;31mNameError\u001b[0m                                 Traceback (most recent call last)",
      "\u001b[0;32m<ipython-input-3-2eb11627bd44>\u001b[0m in \u001b[0;36m<module>\u001b[0;34m\u001b[0m\n\u001b[0;32m----> 1\u001b[0;31m \u001b[0mprint\u001b[0m\u001b[0;34m(\u001b[0m\u001b[0mx\u001b[0m\u001b[0;34m.\u001b[0m\u001b[0mshape\u001b[0m\u001b[0;34m)\u001b[0m\u001b[0;34m\u001b[0m\u001b[0;34m\u001b[0m\u001b[0m\n\u001b[0m\u001b[1;32m      2\u001b[0m \u001b[0mprint\u001b[0m\u001b[0;34m(\u001b[0m\u001b[0my\u001b[0m\u001b[0;34m.\u001b[0m\u001b[0mshape\u001b[0m\u001b[0;34m)\u001b[0m\u001b[0;34m\u001b[0m\u001b[0;34m\u001b[0m\u001b[0m\n",
      "\u001b[0;31mNameError\u001b[0m: name 'x' is not defined"
     ]
    }
   ],
   "source": [
    "print(x.shape)\n",
    "print(y.shape)"
   ]
  },
  {
   "cell_type": "code",
   "execution_count": 38,
   "metadata": {},
   "outputs": [
    {
     "data": {
      "text/plain": [
       "<matplotlib.collections.PathCollection at 0x7ff996fc8b70>"
      ]
     },
     "execution_count": 38,
     "metadata": {},
     "output_type": "execute_result"
    },
    {
     "data": {
      "image/png": "[encoded data removed]",
      "text/plain": [
       "<Figure size 432x288 with 1 Axes>"
      ]
     },
     "metadata": {
      "needs_background": "light"
     },
     "output_type": "display_data"
    }
   ],
   "source": [
    "x,y = generador_dataset(100)\n",
    "plt.scatter(x,y)"
   ]
  },
  {
   "cell_type": "code",
   "execution_count": 39,
   "metadata": {},
   "outputs": [
    {
     "name": "stdout",
     "output_type": "stream",
     "text": [
      "(100, 1)\n",
      "(1, 1)\n"
     ]
    }
   ],
   "source": [
    "np.random.seed(2)\n",
    "\n",
    "print(x.shape)\n",
    "w = np.zeros((x.shape[1],1))\n",
    "print(w.shape)"
   ]
  },
  {
   "cell_type": "code",
   "execution_count": 40,
   "metadata": {},
   "outputs": [],
   "source": [
    "def hipotesis(x, y, W):\n",
    "    y_pred= np.dot(x,w)\n",
    "    return y_pred"
   ]
  },
  {
   "cell_type": "code",
   "execution_count": 41,
   "metadata": {},
   "outputs": [],
   "source": [
    "def cost_function(x,y,y_pred):\n",
    "    return (1/(2*len(x)))*np.sum((y_pred-y)**2)\n"
   ]
  },
  {
   "cell_type": "code",
   "execution_count": 42,
   "metadata": {},
   "outputs": [],
   "source": [
    "lr = 0.04"
   ]
  },
  {
   "cell_type": "code",
   "execution_count": 43,
   "metadata": {},
   "outputs": [],
   "source": [
    "def gradient_descent(x, error):\n",
    "    return np.dot(x.T, error )"
   ]
  },
  {
   "cell_type": "code",
   "execution_count": null,
   "metadata": {},
   "outputs": [],
   "source": []
  },
  {
   "cell_type": "code",
   "execution_count": null,
   "metadata": {},
   "outputs": [],
   "source": []
  },
  {
   "cell_type": "code",
   "execution_count": 46,
   "metadata": {},
   "outputs": [],
   "source": [
    "for i in range(100):\n",
    "    y_pred = np.dot(x, w)\n",
    "    error = y_pred - y\n",
    "    w = w -  (lr/100) * gradient_descent(x,error)\n",
    "    "
   ]
  },
  {
   "cell_type": "code",
   "execution_count": 47,
   "metadata": {},
   "outputs": [
    {
     "data": {
      "text/plain": [
       "array([[-2.40350568e+212]])"
      ]
     },
     "execution_count": 47,
     "metadata": {},
     "output_type": "execute_result"
    }
   ],
   "source": [
    "w"
   ]
  },
  {
   "cell_type": "code",
   "execution_count": 48,
   "metadata": {},
   "outputs": [],
   "source": [
    "y_pred = np.dot(x, w)"
   ]
  },
  {
   "cell_type": "code",
   "execution_count": 49,
   "metadata": {},
   "outputs": [
    {
     "data": {
      "text/plain": [
       "array([[ 0.00000000e+000],\n",
       "       [-2.42778351e+212],\n",
       "       [-4.85556703e+212],\n",
       "       [-7.28335054e+212],\n",
       "       [-9.71113406e+212],\n",
       "       [-1.21389176e+213],\n",
       "       [-1.45667011e+213],\n",
       "       [-1.69944846e+213],\n",
       "       [-1.94222681e+213],\n",
       "       [-2.18500516e+213],\n",
       "       [-2.42778351e+213],\n",
       "       [-2.67056187e+213],\n",
       "       [-2.91334022e+213],\n",
       "       [-3.15611857e+213],\n",
       "       [-3.39889692e+213],\n",
       "       [-3.64167527e+213],\n",
       "       [-3.88445362e+213],\n",
       "       [-4.12723197e+213],\n",
       "       [-4.37001033e+213],\n",
       "       [-4.61278868e+213],\n",
       "       [-4.85556703e+213],\n",
       "       [-5.09834538e+213],\n",
       "       [-5.34112373e+213],\n",
       "       [-5.58390208e+213],\n",
       "       [-5.82668043e+213],\n",
       "       [-6.06945879e+213],\n",
       "       [-6.31223714e+213],\n",
       "       [-6.55501549e+213],\n",
       "       [-6.79779384e+213],\n",
       "       [-7.04057219e+213],\n",
       "       [-7.28335054e+213],\n",
       "       [-7.52612889e+213],\n",
       "       [-7.76890725e+213],\n",
       "       [-8.01168560e+213],\n",
       "       [-8.25446395e+213],\n",
       "       [-8.49724230e+213],\n",
       "       [-8.74002065e+213],\n",
       "       [-8.98279900e+213],\n",
       "       [-9.22557735e+213],\n",
       "       [-9.46835571e+213],\n",
       "       [-9.71113406e+213],\n",
       "       [-9.95391241e+213],\n",
       "       [-1.01966908e+214],\n",
       "       [-1.04394691e+214],\n",
       "       [-1.06822475e+214],\n",
       "       [-1.09250258e+214],\n",
       "       [-1.11678042e+214],\n",
       "       [-1.14105825e+214],\n",
       "       [-1.16533609e+214],\n",
       "       [-1.18961392e+214],\n",
       "       [-1.21389176e+214],\n",
       "       [-1.23816959e+214],\n",
       "       [-1.26244743e+214],\n",
       "       [-1.28672526e+214],\n",
       "       [-1.31100310e+214],\n",
       "       [-1.33528093e+214],\n",
       "       [-1.35955877e+214],\n",
       "       [-1.38383660e+214],\n",
       "       [-1.40811444e+214],\n",
       "       [-1.43239227e+214],\n",
       "       [-1.45667011e+214],\n",
       "       [-1.48094794e+214],\n",
       "       [-1.50522578e+214],\n",
       "       [-1.52950361e+214],\n",
       "       [-1.55378145e+214],\n",
       "       [-1.57805928e+214],\n",
       "       [-1.60233712e+214],\n",
       "       [-1.62661495e+214],\n",
       "       [-1.65089279e+214],\n",
       "       [-1.67517062e+214],\n",
       "       [-1.69944846e+214],\n",
       "       [-1.72372630e+214],\n",
       "       [-1.74800413e+214],\n",
       "       [-1.77228197e+214],\n",
       "       [-1.79655980e+214],\n",
       "       [-1.82083764e+214],\n",
       "       [-1.84511547e+214],\n",
       "       [-1.86939331e+214],\n",
       "       [-1.89367114e+214],\n",
       "       [-1.91794898e+214],\n",
       "       [-1.94222681e+214],\n",
       "       [-1.96650465e+214],\n",
       "       [-1.99078248e+214],\n",
       "       [-2.01506032e+214],\n",
       "       [-2.03933815e+214],\n",
       "       [-2.06361599e+214],\n",
       "       [-2.08789382e+214],\n",
       "       [-2.11217166e+214],\n",
       "       [-2.13644949e+214],\n",
       "       [-2.16072733e+214],\n",
       "       [-2.18500516e+214],\n",
       "       [-2.20928300e+214],\n",
       "       [-2.23356083e+214],\n",
       "       [-2.25783867e+214],\n",
       "       [-2.28211650e+214],\n",
       "       [-2.30639434e+214],\n",
       "       [-2.33067217e+214],\n",
       "       [-2.35495001e+214],\n",
       "       [-2.37922784e+214],\n",
       "       [-2.40350568e+214]])"
      ]
     },
     "execution_count": 49,
     "metadata": {},
     "output_type": "execute_result"
    }
   ],
   "source": [
    "y_pred"
   ]
  },
  {
   "cell_type": "code",
   "execution_count": 50,
   "metadata": {},
   "outputs": [
    {
     "ename": "NameError",
     "evalue": "name 'weights' is not defined",
     "output_type": "error",
     "traceback": [
      "\u001b[0;31m---------------------------------------------------------------------------\u001b[0m",
      "\u001b[0;31mNameError\u001b[0m                                 Traceback (most recent call last)",
      "\u001b[0;32m<ipython-input-50-c78dc50c4e2f>\u001b[0m in \u001b[0;36m<module>\u001b[0;34m\u001b[0m\n\u001b[0;32m----> 1\u001b[0;31m \u001b[0mprint\u001b[0m\u001b[0;34m(\u001b[0m\u001b[0mweights\u001b[0m\u001b[0;34m[\u001b[0m\u001b[0;36m0\u001b[0m\u001b[0;34m]\u001b[0m\u001b[0;34m,\u001b[0m \u001b[0mweights\u001b[0m\u001b[0;34m[\u001b[0m\u001b[0;36m1\u001b[0m\u001b[0;34m]\u001b[0m\u001b[0;34m)\u001b[0m\u001b[0;34m\u001b[0m\u001b[0;34m\u001b[0m\u001b[0m\n\u001b[0m\u001b[1;32m      2\u001b[0m \u001b[0mprint\u001b[0m\u001b[0;34m(\u001b[0m\u001b[0mgradient_descent\u001b[0m\u001b[0;34m(\u001b[0m\u001b[0mx\u001b[0m\u001b[0;34m,\u001b[0m\u001b[0my\u001b[0m\u001b[0;34m,\u001b[0m\u001b[0my_pred\u001b[0m\u001b[0;34m,\u001b[0m\u001b[0mweights\u001b[0m\u001b[0;34m)\u001b[0m\u001b[0;34m)\u001b[0m\u001b[0;34m\u001b[0m\u001b[0;34m\u001b[0m\u001b[0m\n",
      "\u001b[0;31mNameError\u001b[0m: name 'weights' is not defined"
     ]
    }
   ],
   "source": [
    "print(weights[0], weights[1])\n",
    "print(gradient_descent(x,y,y_pred,weights))\n"
   ]
  },
  {
   "cell_type": "code",
   "execution_count": 51,
   "metadata": {},
   "outputs": [
    {
     "data": {
      "text/plain": [
       "<matplotlib.collections.PathCollection at 0x7ff996f8b0b8>"
      ]
     },
     "execution_count": 51,
     "metadata": {},
     "output_type": "execute_result"
    },
    {
     "data": {
      "image/png": "[encoded data removed]",
      "text/plain": [
       "<Figure size 432x288 with 1 Axes>"
      ]
     },
     "metadata": {
      "needs_background": "light"
     },
     "output_type": "display_data"
    }
   ],
   "source": [
    "\n",
    "plt.plot(x, y_pred)\n",
    "plt.scatter(x,y)"
   ]
  },
  {
   "cell_type": "code",
   "execution_count": 18,
   "metadata": {},
   "outputs": [
    {
     "data": {
      "text/plain": [
       "100"
      ]
     },
     "execution_count": 18,
     "metadata": {},
     "output_type": "execute_result"
    }
   ],
   "source": [
    "len(x)"
   ]
  },
  {
   "cell_type": "code",
   "execution_count": 19,
   "metadata": {},
   "outputs": [],
   "source": [
    "from sklearn.linear_model import LinearRegression"
   ]
  },
  {
   "cell_type": "code",
   "execution_count": null,
   "metadata": {},
   "outputs": [],
   "source": [
    "x_train = x[:70]\n",
    "x_test = x[70:]\n",
    "\n",
    "y_train = y[:70]\n",
    "y_test = y[70:]"
   ]
  },
  {
   "cell_type": "code",
   "execution_count": null,
   "metadata": {},
   "outputs": [],
   "source": [
    "x_train = x_train.reshape(-1,1)\n",
    "lin = LinearRegression()\n",
    "lin.fit(x_train, y_train)"
   ]
  },
  {
   "cell_type": "code",
   "execution_count": null,
   "metadata": {},
   "outputs": [],
   "source": [
    "x_test = x_test.reshape(-1,1)\n",
    "y_pred = lin.predict(x_test)"
   ]
  },
  {
   "cell_type": "code",
   "execution_count": null,
   "metadata": {},
   "outputs": [],
   "source": [
    "plt.plot(x_test, y_pred)\n",
    "plt.scatter(x_test,y_test)"
   ]
  },
  {
   "cell_type": "code",
   "execution_count": null,
   "metadata": {},
   "outputs": [],
   "source": [
    "from sklearn.metrics import r2_score"
   ]
  },
  {
   "cell_type": "code",
   "execution_count": null,
   "metadata": {},
   "outputs": [],
   "source": [
    "r2 = r2_score(y_test, y_pred)\n",
    "print(r2)"
   ]
  },
  {
   "cell_type": "code",
   "execution_count": null,
   "metadata": {},
   "outputs": [],
   "source": []
  }
 ],
 "metadata": {
  "kernelspec": {
   "display_name": "uba",
   "language": "python",
   "name": "uba"
  },
  "language_info": {
   "codemirror_mode": {
    "name": "ipython",
    "version": 3
   },
   "file_extension": ".py",
   "mimetype": "text/x-python",
   "name": "python",
   "nbconvert_exporter": "python",
   "pygments_lexer": "ipython3",
   "version": "3.6.13"
  }
 },
 "nbformat": 4,
 "nbformat_minor": 2
}
