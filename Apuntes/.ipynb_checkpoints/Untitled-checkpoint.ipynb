{
 "cells": [
  {
   "cell_type": "markdown",
   "metadata": {},
   "source": [
    "# Regresion Lineal"
   ]
  },
  {
   "cell_type": "code",
   "execution_count": 64,
   "metadata": {},
   "outputs": [],
   "source": [
    "import numpy as np\n",
    "import pandas as pd\n",
    "import matplotlib.pyplot as plt"
   ]
  },
  {
   "cell_type": "code",
   "execution_count": 65,
   "metadata": {},
   "outputs": [],
   "source": [
    "def generador_dataset(num_valores):\n",
    "    x = np.linspace(0,100,num_valores)\n",
    "    y = x + (np.random.randn(num_valores)*20)\n",
    "    return(x,y)"
   ]
  },
  {
   "cell_type": "code",
   "execution_count": 66,
   "metadata": {},
   "outputs": [
    {
     "data": {
      "text/plain": [
       "<matplotlib.collections.PathCollection at 0x7fe7c32ec438>"
      ]
     },
     "execution_count": 66,
     "metadata": {},
     "output_type": "execute_result"
    },
    {
     "data": {
      "image/png": "[encoded data removed]",
      "text/plain": [
       "<Figure size 432x288 with 1 Axes>"
      ]
     },
     "metadata": {
      "needs_background": "light"
     },
     "output_type": "display_data"
    }
   ],
   "source": [
    "x,y = generador_dataset(100)\n",
    "plt.scatter(x,y)"
   ]
  },
  {
   "cell_type": "code",
   "execution_count": 67,
   "metadata": {},
   "outputs": [],
   "source": [
    "np.random.seed(2)\n",
    "theta = np.random.rand()\n",
    "bias = np.random.rand()\n",
    "weights = [theta,bias]"
   ]
  },
  {
   "cell_type": "code",
   "execution_count": 68,
   "metadata": {},
   "outputs": [],
   "source": [
    "def hipotesis(x, y, weights):\n",
    "    return y_pred"
   ]
  },
  {
   "cell_type": "code",
   "execution_count": 69,
   "metadata": {},
   "outputs": [],
   "source": [
    "def cost_function(x,y,y_pred):\n",
    "    return (1/(2*len(x)))*np.sum((y_pred-y)**2)\n"
   ]
  },
  {
   "cell_type": "code",
   "execution_count": 70,
   "metadata": {},
   "outputs": [
    {
     "name": "stdout",
     "output_type": "stream",
     "text": [
      "0.43599490214200376 0.025926231827891333\n"
     ]
    }
   ],
   "source": [
    "print(theta, bias)\n",
    "lr = 0.04"
   ]
  },
  {
   "cell_type": "code",
   "execution_count": 71,
   "metadata": {},
   "outputs": [],
   "source": [
    "def gradient_descent(x,y,y_pred, lr):\n",
    "    return  (lr/len(x)) * np.sum((hipotesis(x, y, weights)-y))"
   ]
  },
  {
   "cell_type": "code",
   "execution_count": 72,
   "metadata": {},
   "outputs": [
    {
     "name": "stdout",
     "output_type": "stream",
     "text": [
      "[  43.15991682  -33.35333416   34.33688081   14.31920352  -13.55728503\n",
      "   20.42219215   15.6915619    11.72875692  -18.46438917  -54.26338143\n",
      "  -10.23392193   11.97146194  -22.15212628   -0.43167876  -12.95617573\n",
      "  -37.82272295   -0.34919247  -16.47102937    0.28772062  -15.12966674\n",
      "  -24.37367208   -0.45059496  -14.43364951  -17.47032112  -10.42481438\n",
      "   -0.4095818     3.27860412  -23.05974941  -21.73242701  -72.72481489\n",
      "   19.61395952  -32.31983501  -38.45810854  -59.22580796  -43.05418774\n",
      "  -17.11668242  -34.98506462  -46.81583374  -30.68253125  -53.35684285\n",
      "   -1.55870789  -74.5281272   -70.24190699  -35.1587129   -55.08298816\n",
      "  -44.79949731  -28.24129259  -47.56211563  -66.79914189  -40.15388671\n",
      "  -41.24626149  -48.25414759  -59.39740235  -77.27897325  -40.00171544\n",
      "  -63.84713929  -58.98544746  -18.47479251  -48.24462349  -54.96828806\n",
      "  -57.80737413  -66.10276049  -19.76014375  -62.47562808  -48.98091897\n",
      "  -34.72956288  -74.98818491  -80.19176073  -53.40507675  -84.30312063\n",
      "  -60.80757826  -70.75160098  -48.43095475 -103.07938772  -19.18457036\n",
      "  -71.52841993  -88.24377738  -34.65596726  -72.51982578  -75.74875067\n",
      "  -94.77109698 -104.22520818  -72.16701728  -53.53840223 -109.55739694\n",
      " -107.55431402  -74.94040729  -92.18219703  -93.78566473  -98.45776177\n",
      "  -92.20032542 -117.23400357  -55.32480155 -111.8843836   -99.66125683\n",
      "  -88.69302495 -117.49027319  -48.1314923  -119.21789883 -104.69294287]\n",
      "(100,)\n"
     ]
    }
   ],
   "source": [
    "resta = hipotesis(x, y, weights)-y\n",
    "print(resta)\n",
    "print(resta.shape)"
   ]
  },
  {
   "cell_type": "code",
   "execution_count": 73,
   "metadata": {},
   "outputs": [
    {
     "name": "stdout",
     "output_type": "stream",
     "text": [
      "[ 0.00000000e+00 -3.36902365e+01  6.93674360e+01  4.33915258e+01\n",
      " -5.47769092e+01  1.03142385e+02  9.51003751e+01  8.29306045e+01\n",
      " -1.49207185e+02 -4.93303468e+02 -1.03372949e+02  1.33016244e+02\n",
      " -2.68510622e+02 -5.66850903e+00 -1.83218647e+02 -5.73071560e+02\n",
      " -5.64351461e+00 -2.82835858e+02  5.23128397e+00 -2.90367341e+02\n",
      " -4.92397416e+02 -9.55807496e+00 -3.20747767e+02 -4.05876147e+02\n",
      " -2.52722773e+02 -1.03429747e+01  8.61047547e+01 -6.28902257e+02\n",
      " -6.14654501e+02 -2.13032286e+03  5.94362410e+02 -1.01203524e+03\n",
      " -1.24309038e+03 -1.97419360e+03 -1.47862867e+03 -6.05135237e+02\n",
      " -1.27218417e+03 -1.74968267e+03 -1.17771332e+03 -2.10193623e+03\n",
      " -6.29780967e+01 -3.08651840e+03 -2.97995969e+03 -1.52709561e+03\n",
      " -2.44813281e+03 -2.03634079e+03 -1.31222168e+03 -2.25799943e+03\n",
      " -3.23874627e+03 -1.98741459e+03 -2.08314452e+03 -2.48581972e+03\n",
      " -3.11986356e+03 -4.13715715e+03 -2.18191175e+03 -3.54706329e+03\n",
      " -3.33655056e+03 -1.06370017e+03 -2.82645269e+03 -3.27588787e+03\n",
      " -3.50347722e+03 -4.07299837e+03 -1.23750395e+03 -3.97572179e+03\n",
      " -3.16644325e+03 -2.28022383e+03 -4.99921233e+03 -5.42711916e+03\n",
      " -3.66822749e+03 -5.87567204e+03 -4.29952574e+03 -5.07410472e+03\n",
      " -3.52225125e+03 -7.60080334e+03 -1.43399819e+03 -5.41881969e+03\n",
      " -6.77426978e+03 -2.69546412e+03 -5.71368324e+03 -6.04459728e+03\n",
      " -7.65827046e+03 -8.52751703e+03 -5.97747012e+03 -4.48857312e+03\n",
      " -9.29577913e+03 -9.23446130e+03 -6.50997477e+03 -8.10085974e+03\n",
      " -8.33650353e+03 -8.85125333e+03 -8.38184777e+03 -1.07760549e+04\n",
      " -5.14129469e+03 -1.05103512e+04 -9.46278600e+03 -8.51094684e+03\n",
      " -1.13929962e+04 -4.71591389e+03 -1.18013678e+04 -1.04692943e+04]\n",
      "(100,)\n"
     ]
    }
   ],
   "source": [
    "print(resta*x)\n",
    "print(resta.shape)"
   ]
  },
  {
   "cell_type": "code",
   "execution_count": 45,
   "metadata": {},
   "outputs": [],
   "source": [
    "for i in range(200):\n",
    "    weights[0] = weights[0] - (lr/len(x)) * np.sum((hipotesis(x, y, weights)-y))\n",
    "    weights[1] = weights[1] - (lr/len(x)) * np.sum((hipotesis(x, y, weights)-y)*x)\n",
    "    "
   ]
  },
  {
   "cell_type": "code",
   "execution_count": 57,
   "metadata": {},
   "outputs": [
    {
     "data": {
      "text/plain": [
       "-322633.73553766916"
      ]
     },
     "execution_count": 57,
     "metadata": {},
     "output_type": "execute_result"
    }
   ],
   "source": []
  },
  {
   "cell_type": "code",
   "execution_count": 47,
   "metadata": {},
   "outputs": [
    {
     "name": "stdout",
     "output_type": "stream",
     "text": [
      "nan nan\n"
     ]
    },
    {
     "ename": "TypeError",
     "evalue": "unsupported operand type(s) for /: 'list' and 'int'",
     "output_type": "error",
     "traceback": [
      "\u001b[0;31m---------------------------------------------------------------------------\u001b[0m",
      "\u001b[0;31mTypeError\u001b[0m                                 Traceback (most recent call last)",
      "\u001b[0;32m<ipython-input-47-c78dc50c4e2f>\u001b[0m in \u001b[0;36m<module>\u001b[0;34m\u001b[0m\n\u001b[1;32m      1\u001b[0m \u001b[0mprint\u001b[0m\u001b[0;34m(\u001b[0m\u001b[0mweights\u001b[0m\u001b[0;34m[\u001b[0m\u001b[0;36m0\u001b[0m\u001b[0;34m]\u001b[0m\u001b[0;34m,\u001b[0m \u001b[0mweights\u001b[0m\u001b[0;34m[\u001b[0m\u001b[0;36m1\u001b[0m\u001b[0;34m]\u001b[0m\u001b[0;34m)\u001b[0m\u001b[0;34m\u001b[0m\u001b[0;34m\u001b[0m\u001b[0m\n\u001b[0;32m----> 2\u001b[0;31m \u001b[0mprint\u001b[0m\u001b[0;34m(\u001b[0m\u001b[0mgradient_descent\u001b[0m\u001b[0;34m(\u001b[0m\u001b[0mx\u001b[0m\u001b[0;34m,\u001b[0m\u001b[0my\u001b[0m\u001b[0;34m,\u001b[0m\u001b[0my_pred\u001b[0m\u001b[0;34m,\u001b[0m\u001b[0mweights\u001b[0m\u001b[0;34m)\u001b[0m\u001b[0;34m)\u001b[0m\u001b[0;34m\u001b[0m\u001b[0;34m\u001b[0m\u001b[0m\n\u001b[0m",
      "\u001b[0;32m<ipython-input-34-907965a5d0f8>\u001b[0m in \u001b[0;36mgradient_descent\u001b[0;34m(x, y, y_pred, lr)\u001b[0m\n\u001b[1;32m      1\u001b[0m \u001b[0;32mdef\u001b[0m \u001b[0mgradient_descent\u001b[0m\u001b[0;34m(\u001b[0m\u001b[0mx\u001b[0m\u001b[0;34m,\u001b[0m\u001b[0my\u001b[0m\u001b[0;34m,\u001b[0m\u001b[0my_pred\u001b[0m\u001b[0;34m,\u001b[0m \u001b[0mlr\u001b[0m\u001b[0;34m)\u001b[0m\u001b[0;34m:\u001b[0m\u001b[0;34m\u001b[0m\u001b[0;34m\u001b[0m\u001b[0m\n\u001b[0;32m----> 2\u001b[0;31m     \u001b[0;32mreturn\u001b[0m  \u001b[0;34m(\u001b[0m\u001b[0mlr\u001b[0m\u001b[0;34m/\u001b[0m\u001b[0mlen\u001b[0m\u001b[0;34m(\u001b[0m\u001b[0mx\u001b[0m\u001b[0;34m)\u001b[0m\u001b[0;34m)\u001b[0m \u001b[0;34m*\u001b[0m \u001b[0mnp\u001b[0m\u001b[0;34m.\u001b[0m\u001b[0msum\u001b[0m\u001b[0;34m(\u001b[0m\u001b[0;34m(\u001b[0m\u001b[0mhipotesis\u001b[0m\u001b[0;34m(\u001b[0m\u001b[0mx\u001b[0m\u001b[0;34m,\u001b[0m \u001b[0my\u001b[0m\u001b[0;34m,\u001b[0m \u001b[0mweights\u001b[0m\u001b[0;34m)\u001b[0m\u001b[0;34m-\u001b[0m\u001b[0my\u001b[0m\u001b[0;34m)\u001b[0m\u001b[0;34m)\u001b[0m\u001b[0;34m\u001b[0m\u001b[0;34m\u001b[0m\u001b[0m\n\u001b[0m",
      "\u001b[0;31mTypeError\u001b[0m: unsupported operand type(s) for /: 'list' and 'int'"
     ]
    }
   ],
   "source": [
    "print(weights[0], weights[1])\n",
    "print(gradient_descent(x,y,y_pred,weights))\n"
   ]
  },
  {
   "cell_type": "code",
   "execution_count": 48,
   "metadata": {},
   "outputs": [
    {
     "data": {
      "text/plain": [
       "<matplotlib.collections.PathCollection at 0x7fe7c33e2f60>"
      ]
     },
     "execution_count": 48,
     "metadata": {},
     "output_type": "execute_result"
    },
    {
     "data": {
      "image/png": "[encoded data removed]",
      "text/plain": [
       "<Figure size 432x288 with 1 Axes>"
      ]
     },
     "metadata": {
      "needs_background": "light"
     },
     "output_type": "display_data"
    }
   ],
   "source": [
    "y_pred = x*weights[1] + weights[0]\n",
    "plt.plot(x, y_pred)\n",
    "plt.scatter(x,y)"
   ]
  },
  {
   "cell_type": "code",
   "execution_count": null,
   "metadata": {},
   "outputs": [],
   "source": [
    "len(x)"
   ]
  },
  {
   "cell_type": "code",
   "execution_count": null,
   "metadata": {},
   "outputs": [],
   "source": [
    "from sklearn.linear_model import LinearRegression"
   ]
  },
  {
   "cell_type": "code",
   "execution_count": null,
   "metadata": {},
   "outputs": [],
   "source": [
    "x_train = x[:70]\n",
    "x_test = x[70:]\n",
    "\n",
    "y_train = y[:70]\n",
    "y_test = y[70:]"
   ]
  },
  {
   "cell_type": "code",
   "execution_count": null,
   "metadata": {},
   "outputs": [],
   "source": [
    "x_train = x_train.reshape(-1,1)\n",
    "lin = LinearRegression()\n",
    "lin.fit(x_train, y_train)"
   ]
  },
  {
   "cell_type": "code",
   "execution_count": null,
   "metadata": {},
   "outputs": [],
   "source": [
    "x_test = x_test.reshape(-1,1)\n",
    "y_pred = lin.predict(x_test)"
   ]
  },
  {
   "cell_type": "code",
   "execution_count": null,
   "metadata": {},
   "outputs": [],
   "source": [
    "plt.plot(x_test, y_pred)\n",
    "plt.scatter(x_test,y_test)"
   ]
  },
  {
   "cell_type": "code",
   "execution_count": null,
   "metadata": {},
   "outputs": [],
   "source": [
    "from sklearn.metrics import r2_score"
   ]
  },
  {
   "cell_type": "code",
   "execution_count": null,
   "metadata": {},
   "outputs": [],
   "source": [
    "r2 = r2_score(y_test, y_pred)\n",
    "print(r2)"
   ]
  },
  {
   "cell_type": "code",
   "execution_count": null,
   "metadata": {},
   "outputs": [],
   "source": []
  }
 ],
 "metadata": {
  "kernelspec": {
   "display_name": "uba",
   "language": "python",
   "name": "uba"
  },
  "language_info": {
   "codemirror_mode": {
    "name": "ipython",
    "version": 3
   },
   "file_extension": ".py",
   "mimetype": "text/x-python",
   "name": "python",
   "nbconvert_exporter": "python",
   "pygments_lexer": "ipython3",
   "version": "3.6.13"
  }
 },
 "nbformat": 4,
 "nbformat_minor": 2
}
